{
 "cells": [
  {
   "cell_type": "code",
   "execution_count": 145,
   "metadata": {},
   "outputs": [
    {
     "data": {
      "text/plain": [
       "<bound method NDFrame.head of         time          Entity   arrival  0/1               event\n",
       "1       2.67   Entity:     1     2.666  0.0  CreateEnd(Arrival)\n",
       "2       2.67   Entity:     1     2.666  0.0          ServeBegin\n",
       "3      13.11   Entity:     1     2.666  0.0            ServeEnd\n",
       "4      42.79   Entity:     2    42.790  0.0  CreateEnd(Arrival)\n",
       "5      42.79   Entity:     2    42.790  0.0          ServeBegin\n",
       "..       ...             ...       ...  ...                 ...\n",
       "420  1428.74   Entity:   134  1196.258  0.0            ServeEnd\n",
       "421  1428.74   Entity:   135  1211.333  0.0          ServeBegin\n",
       "422  1432.79   Entity:   153  1432.788  0.0  CreateEnd(Arrival)\n",
       "423  1437.73   Entity:   135  1211.333  0.0            ServeEnd\n",
       "424  1437.73   Entity:   136  1220.617  0.0          ServeBegin\n",
       "\n",
       "[424 rows x 5 columns]>"
      ]
     },
     "execution_count": 145,
     "metadata": {},
     "output_type": "execute_result"
    }
   ],
   "source": [
    "import pandas as pd\n",
    "df = pd.read_csv(\"Simulation.csv\", header=None)\n",
    "df = df.iloc[1: , :]\n",
    "\n",
    "df.columns =['time','Entity', 'arrival', '0/1' ,'event']\n",
    "df['time'] = df['time'].str.replace(\"At\", \"\")\n",
    "df['time'] = pd.to_numeric(df['time'])\n",
    "df['arrival'] = pd.to_numeric(df['arrival'])\n",
    "df['event'] = df['event'].str.replace(\" \", \"\")\n",
    "df.head"
   ]
  },
  {
   "cell_type": "code",
   "execution_count": 146,
   "metadata": {},
   "outputs": [],
   "source": [
    "# MBA643 Assignment 1 \n",
    "# Akanksha Singh 200070 \n",
    "# Priya Gole 200727 \n",
    "\n",
    "\n",
    "# Q1. \n",
    "# Total number of unique entities = total number of arrivals = 153\n",
    "\n",
    "# Q2. \n",
    "# A total of 135 entities have completed their service and left the system.\n",
    "\n",
    "# Q3. \n",
    "# The server is serving entity 136 when the simulation is stopped."
   ]
  },
  {
   "cell_type": "code",
   "execution_count": 147,
   "metadata": {},
   "outputs": [
    {
     "name": "stdout",
     "output_type": "stream",
     "text": [
      "116.21065925925926\n"
     ]
    }
   ],
   "source": [
    "# Question 4\n",
    "\n",
    "j = 1\n",
    "\n",
    "entity_time = []\n",
    "\n",
    "for i in df['event']:\n",
    "    if i == 'ServeEnd':\n",
    "        entity_time.append(df['time'][j]-df['arrival'][j])\n",
    "    j = j + 1\n",
    "\n",
    "import statistics\n",
    "\n",
    "print(statistics.mean(entity_time)) # Average entity time\n"
   ]
  },
  {
   "cell_type": "code",
   "execution_count": 148,
   "metadata": {},
   "outputs": [
    {
     "name": "stdout",
     "output_type": "stream",
     "text": [
      "12.161546326500801\n"
     ]
    }
   ],
   "source": [
    "# Question 5\n",
    "\n",
    "j = 1\n",
    "\n",
    "num = 0\n",
    "time_last = 0\n",
    "\n",
    "sum = 0\n",
    "\n",
    "for i in df['event']:\n",
    "    if i == 'CreateEnd(Arrival)':\n",
    "        sum = sum + num*(df['time'][j]-time_last)\n",
    "        time_last = df['time'][j]\n",
    "        num = num + 1\n",
    "    if i == 'ServeEnd':\n",
    "        sum = sum + num*(df['time'][j]-time_last)\n",
    "        time_last = df['time'][j]\n",
    "        num = num - 1\n",
    "    j = j + 1\n",
    "\n",
    "average_entities = sum/(df['time'][j-1])\n",
    "\n",
    "print(average_entities) # Average number of entities in system"
   ]
  },
  {
   "cell_type": "code",
   "execution_count": 149,
   "metadata": {},
   "outputs": [
    {
     "data": {
      "text/plain": [
       "[<matplotlib.lines.Line2D at 0x1e532395750>]"
      ]
     },
     "execution_count": 149,
     "metadata": {},
     "output_type": "execute_result"
    },
    {
     "data": {
      "image/png": "[encoded data removed]",
      "text/plain": [
       "<Figure size 432x288 with 1 Axes>"
      ]
     },
     "metadata": {
      "needs_background": "light"
     },
     "output_type": "display_data"
    }
   ],
   "source": [
    "# Question 6\n",
    "\n",
    "ent = list(range(1, len(entity_time)+1))\n",
    "# !pip install matplotlib\n",
    "import matplotlib.pyplot as plt\n",
    "\n",
    "plt.plot(ent, entity_time)"
   ]
  },
  {
   "cell_type": "code",
   "execution_count": 150,
   "metadata": {},
   "outputs": [
    {
     "name": "stdout",
     "output_type": "stream",
     "text": [
      "7226.401820136761\n"
     ]
    }
   ],
   "source": [
    "# Question 7\n",
    "\n",
    "print(statistics.variance(entity_time))"
   ]
  },
  {
   "cell_type": "code",
   "execution_count": 151,
   "metadata": {},
   "outputs": [
    {
     "name": "stdout",
     "output_type": "stream",
     "text": [
      "(104.17634285092893, 128.2449756675896)\n"
     ]
    },
    {
     "name": "stderr",
     "output_type": "stream",
     "text": [
      "C:\\Users\\Administrator\\AppData\\Local\\Temp\\ipykernel_13804\\1674695000.py:8: DeprecationWarning: Use of keyword argument `alpha` for method `interval` is deprecated. Use first positional argument or keyword argument `confidence` instead.\n",
      "  intv = st.norm.interval(alpha=0.90,\n"
     ]
    }
   ],
   "source": [
    "# Question 8\n",
    "\n",
    "# !pip install scipy\n",
    "\n",
    "import numpy as np\n",
    "import scipy.stats as st\n",
    "  \n",
    "intv = st.norm.interval(alpha=0.90,\n",
    "                 loc=np.mean(entity_time),\n",
    "                 scale=st.sem(entity_time))\n",
    "\n",
    "print(intv)"
   ]
  },
  {
   "cell_type": "code",
   "execution_count": 152,
   "metadata": {},
   "outputs": [
    {
     "name": "stdout",
     "output_type": "stream",
     "text": [
      "(101.8708868002338, 130.55043171828476)\n"
     ]
    },
    {
     "name": "stderr",
     "output_type": "stream",
     "text": [
      "C:\\Users\\Administrator\\AppData\\Local\\Temp\\ipykernel_13804\\1087414630.py:4: DeprecationWarning: Use of keyword argument `alpha` for method `interval` is deprecated. Use first positional argument or keyword argument `confidence` instead.\n",
      "  intv = st.norm.interval(alpha=0.95,\n"
     ]
    }
   ],
   "source": [
    "import numpy as np\n",
    "import scipy.stats as st\n",
    "  \n",
    "intv = st.norm.interval(alpha=0.95,\n",
    "                 loc=np.mean(entity_time),\n",
    "                 scale=st.sem(entity_time))\n",
    "\n",
    "print(intv)"
   ]
  },
  {
   "cell_type": "code",
   "execution_count": 153,
   "metadata": {},
   "outputs": [
    {
     "name": "stdout",
     "output_type": "stream",
     "text": [
      "(97.36500372806884, 135.0563147904497)\n"
     ]
    },
    {
     "name": "stderr",
     "output_type": "stream",
     "text": [
      "C:\\Users\\Administrator\\AppData\\Local\\Temp\\ipykernel_13804\\1864496125.py:4: DeprecationWarning: Use of keyword argument `alpha` for method `interval` is deprecated. Use first positional argument or keyword argument `confidence` instead.\n",
      "  intv = st.norm.interval(alpha=0.99,\n"
     ]
    }
   ],
   "source": [
    "import numpy as np\n",
    "import scipy.stats as st\n",
    "  \n",
    "intv = st.norm.interval(alpha=0.99,\n",
    "                 loc=np.mean(entity_time),\n",
    "                 scale=st.sem(entity_time))\n",
    "\n",
    "print(intv)"
   ]
  },
  {
   "cell_type": "code",
   "execution_count": 154,
   "metadata": {},
   "outputs": [
    {
     "name": "stdout",
     "output_type": "stream",
     "text": [
      "94.3918538251271\n"
     ]
    }
   ],
   "source": [
    "# Question 9\n",
    "\n",
    "j = 1\n",
    "\n",
    "start_time = []\n",
    "end_time = []\n",
    "\n",
    "for i in df['event']:\n",
    "    if i == 'ServeBegin':\n",
    "        start_time.append(df['time'][j])\n",
    "    if i == 'ServeEnd':\n",
    "        end_time.append(df['time'][j])\n",
    "    j = j + 1\n",
    "\n",
    "\n",
    "start_time = start_time[:-1]\n",
    "\n",
    "total_time = 0\n",
    "\n",
    "for j in range(0, len(start_time)):\n",
    "    total_time = total_time + (end_time[j] - start_time[j])\n",
    "\n",
    "time_utilization = total_time/(df['time'][len(df['time'])-1])*100\n",
    "\n",
    "print(time_utilization)"
   ]
  },
  {
   "cell_type": "code",
   "execution_count": 155,
   "metadata": {},
   "outputs": [
    {
     "data": {
      "text/plain": [
       "[<matplotlib.lines.Line2D at 0x1e532418c10>]"
      ]
     },
     "execution_count": 155,
     "metadata": {},
     "output_type": "execute_result"
    },
    {
     "data": {
      "image/png": "[encoded data removed]",
      "text/plain": [
       "<Figure size 432x288 with 1 Axes>"
      ]
     },
     "metadata": {
      "needs_background": "light"
     },
     "output_type": "display_data"
    }
   ],
   "source": [
    "# Question 10\n",
    "\n",
    "flag = 0\n",
    "last_time = 0\n",
    "j = 1\n",
    "\n",
    "TBA = []\n",
    "\n",
    "for i in df['event']:\n",
    "    if i == 'CreateEnd(Arrival)' and flag == 0:\n",
    "        flag = 1\n",
    "        last_time = df['time'][j]\n",
    "    if i == 'CreateEnd(Arrival)' and flag == 1:\n",
    "        TBA.append( df['time'][j]-last_time)\n",
    "        last_time = df['time'][j]\n",
    "    j = j + 1\n",
    "\n",
    "x = range(1, len(TBA)+1)\n",
    "\n",
    "plt.plot(x, TBA)"
   ]
  },
  {
   "cell_type": "code",
   "execution_count": 156,
   "metadata": {},
   "outputs": [
    {
     "data": {
      "text/plain": [
       "(array([62., 42., 20., 15.,  5.,  2.,  0.,  3.,  1.,  3.]),\n",
       " array([ 0.   ,  5.095, 10.19 , 15.285, 20.38 , 25.475, 30.57 , 35.665,\n",
       "        40.76 , 45.855, 50.95 ]),\n",
       " <BarContainer object of 10 artists>)"
      ]
     },
     "execution_count": 156,
     "metadata": {},
     "output_type": "execute_result"
    },
    {
     "data": {
      "image/png": "[encoded data removed]",
      "text/plain": [
       "<Figure size 432x288 with 1 Axes>"
      ]
     },
     "metadata": {
      "needs_background": "light"
     },
     "output_type": "display_data"
    }
   ],
   "source": [
    "# Question 11\n",
    "\n",
    "plt.hist(TBA)"
   ]
  },
  {
   "cell_type": "code",
   "execution_count": 157,
   "metadata": {},
   "outputs": [
    {
     "name": "stdout",
     "output_type": "stream",
     "text": [
      "11.217627788249533\n"
     ]
    }
   ],
   "source": [
    "# Question 12\n",
    "\n",
    "j = 1\n",
    "\n",
    "num = 0\n",
    "time_last = 0\n",
    "\n",
    "sum = 0\n",
    "\n",
    "for i in df['event']:\n",
    "    if i == 'CreateEnd(Arrival)':\n",
    "        sum = sum + num*(df['time'][j]-time_last)\n",
    "        time_last = df['time'][j]\n",
    "        num = num + 1\n",
    "       \n",
    "    if i == 'ServeBegin':\n",
    "        sum = sum + num*(df['time'][j]-time_last)\n",
    "        time_last = df['time'][j]\n",
    "        num = num - 1\n",
    "    j = j + 1\n",
    "\n",
    "average_queue_length = sum/(df['time'][j-1])\n",
    "print(average_queue_length)"
   ]
  },
  {
   "cell_type": "code",
   "execution_count": 158,
   "metadata": {},
   "outputs": [
    {
     "name": "stdout",
     "output_type": "stream",
     "text": [
      "106.9741911764706\n"
     ]
    }
   ],
   "source": [
    "# Question 13\n",
    "\n",
    "j = 1\n",
    "\n",
    "arrival_time = []\n",
    "begin_time = []\n",
    "\n",
    "for i in df['event']:\n",
    "    if i == 'CreateEnd(Arrival)':\n",
    "        arrival_time.append(df['time'][j])\n",
    "    if i == 'ServeBegin':\n",
    "        begin_time.append(df['time'][j])\n",
    "    j = j + 1\n",
    "\n",
    "\n",
    "sum = 0\n",
    "for j in range(0, len(begin_time)):\n",
    "    sum = sum + begin_time[j] - arrival_time[j]\n",
    "\n",
    "average_waiting = sum/(len(begin_time))\n",
    "print(average_waiting) "
   ]
  },
  {
   "cell_type": "code",
   "execution_count": 159,
   "metadata": {},
   "outputs": [
    {
     "data": {
      "text/plain": [
       "[<matplotlib.lines.Line2D at 0x1e532519090>]"
      ]
     },
     "execution_count": 159,
     "metadata": {},
     "output_type": "execute_result"
    },
    {
     "data": {
      "image/png": "[encoded data removed]",
      "text/plain": [
       "<Figure size 432x288 with 1 Axes>"
      ]
     },
     "metadata": {
      "needs_background": "light"
     },
     "output_type": "display_data"
    }
   ],
   "source": [
    "# Question 14\n",
    "\n",
    "time_x = []\n",
    "binary_y = []\n",
    "\n",
    "time_x.append(0)\n",
    "binary_y.append(0)\n",
    "for i in range(0, len(start_time)):\n",
    "    time_x.append(start_time[i])\n",
    "    binary_y.append(1)\n",
    "    time_x.append(end_time[i])\n",
    "    binary_y.append(0)\n",
    "\n",
    "plt.step(time_x, binary_y)"
   ]
  }
 ],
 "metadata": {
  "kernelspec": {
   "display_name": "Python 3.10.5 64-bit",
   "language": "python",
   "name": "python3"
  },
  "language_info": {
   "codemirror_mode": {
    "name": "ipython",
    "version": 3
   },
   "file_extension": ".py",
   "mimetype": "text/x-python",
   "name": "python",
   "nbconvert_exporter": "python",
   "pygments_lexer": "ipython3",
   "version": "3.10.5"
  },
  "orig_nbformat": 4,
  "vscode": {
   "interpreter": {
    "hash": "3196968d684371006099b3d55edeef8ed90365227a30deaef86e5d4aa8519be0"
   }
  }
 },
 "nbformat": 4,
 "nbformat_minor": 2
}
